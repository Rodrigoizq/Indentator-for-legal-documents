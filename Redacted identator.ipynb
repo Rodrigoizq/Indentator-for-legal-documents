{
 "cells": [
  {
   "cell_type": "code",
   "execution_count": 1,
   "id": "242e6669",
   "metadata": {},
   "outputs": [],
   "source": [
    "## This file has many confidentials files therefore it cannot be properly debriefed but the functions still work"
   ]
  },
  {
   "cell_type": "code",
   "execution_count": null,
   "id": "98d4566e",
   "metadata": {},
   "outputs": [],
   "source": [
    "import pandas as pd\n",
    "from docx import Document\n",
    "from docx.shared import Pt\n",
    "#before reading this file Please read the notes\n",
    "# Read the CSV file and store the data in a DataFrame\n",
    "df = pd.read_csv('Credito-Final-Redacted-S.csv')\n",
    "\n",
    "# Initialize the text variable\n",
    "text = ''\n",
    "\n",
    "# Iterate through each row of the DataFrame and generate the text for the Word document\n",
    "for i, row in df.iterrows():\n",
    "#in this case 'CASO' is coming out as a float but we want a integer at all times without iterating rows that have\n",
    "#no data when making the document file.\n",
    "    caso = int(row['CASO'])\n",
    "    escrito_libre = row['ESCRITO FECHA']\n",
    "    clave_de_pedimento = row['CLAVE DE PEDIMENTO']\n",
    "    fecha_ped = row['FECHA PED']\n",
    "    factura = row['FACTURA']\n",
    "    fecha_fact = row['FECHA FACT']\n",
    "    descripcion = row['DESCRIPCION']\n",
    "    marca = row['MARCA']\n",
    "    modelo = row['MODELO']\n",
    "    serie = row['SERIE']\n",
    "\n",
    "    # Generate the text for this row and append it to the text variable\n",
    "    #Cambiar contribuyente cuando sea necesario e utilizar el nombre de las celdas especificado en el codigo\n",
    "    row_text = f'Caso \"{caso}\" El Redacted, en su carácter de Representante Legal de la contribuyente Redacted.ante esta Redacted, con sede en Baja California, a través de escrito libre de fecha \"{escrito_libre}\", presentó el pedimento número \"{clave_de_pedimento}\" de fecha de pago \"{fecha_ped}\", con clave de pedimento A3, y factura número \"{factura}\" de fecha \"{fecha_fact}\", con los que pretende acreditar la legal estancia en el país de la mercancía descrita en el Caso \"{caso}\", \n",
    "    'señalada en el apartado de INVENTARIO FÍSICO del Acta de Inicio, Embargo Precautorio e Inicio del Redacted de fecha 27 de Septiembre de 2022, detallada como: \"{descripcion}\", Marca: \"{marca}\" , Modelo:\"{modelo}\" Serie: \"{serie}\" de cuyo análisis y valoración se desprende que la contribuyente'\n",
    "    'REDACTED S.A. DE C.V., acredita la legal estancia de la mercancía previamente descrita, por el hecho de coincidir sus datos de identificación con los contenidos en el pedimento y factura citados, de conformidad con lo señalado en los artículos 36-A, primer párrafo, fracción I y segundo párrafo de la Ley Aduanera, artículo 29-A del Código Fiscal de la Federación, ambos en relación con el artículo 146 de la Ley Aduanera, dichas disposiciones legales vigentes a la fecha de las documentales señaladas.\\n\\n'\n",
    "    text += row_text\n",
    "\n",
    "# Generate the Word document\n",
    "document = Document()\n",
    "\n",
    "#setup placeholder as bold\n",
    "p = document.add_paragraph()\n",
    "for i, part in enumerate(text.split('\"')):\n",
    "    if i % 2 == 0:\n",
    "        r = p.add_run(part)\n",
    "    else:\n",
    "        r = p.add_run(part)\n",
    "        r.bold = True\n",
    "\n",
    "# Add the text to the document\n",
    "paragraph = document.add_paragraph()\n",
    "paragraph_format = paragraph.paragraph_format\n",
    "paragraph_format.line_spacing = Pt(14)\n",
    "paragraph_format.space_after = Pt(0)\n",
    "paragraph_format.space_before = Pt(0)\n",
    "run = paragraph.add_run(text)\n",
    "\n",
    "# Save the document\n",
    "document.save('Credito-Final-Redacted-S.docx')\n",
    "\n"
   ]
  }
 ],
 "metadata": {
  "kernelspec": {
   "display_name": "Python 3 (ipykernel)",
   "language": "python",
   "name": "python3"
  },
  "language_info": {
   "codemirror_mode": {
    "name": "ipython",
    "version": 3
   },
   "file_extension": ".py",
   "mimetype": "text/x-python",
   "name": "python",
   "nbconvert_exporter": "python",
   "pygments_lexer": "ipython3",
   "version": "3.10.3"
  }
 },
 "nbformat": 4,
 "nbformat_minor": 5
}
